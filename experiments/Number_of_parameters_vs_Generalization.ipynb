{
 "cells": [
  {
   "cell_type": "code",
   "execution_count": 177,
   "metadata": {},
   "outputs": [
    {
     "name": "stdout",
     "output_type": "stream",
     "text": [
      "Extracting data/MNIST/train-images-idx3-ubyte.gz\n",
      "Extracting data/MNIST/train-labels-idx1-ubyte.gz\n",
      "Extracting data/MNIST/t10k-images-idx3-ubyte.gz\n",
      "Extracting data/MNIST/t10k-labels-idx1-ubyte.gz\n"
     ]
    }
   ],
   "source": [
    "import matplotlib.pyplot as plt\n",
    "import tensorflow as tf\n",
    "import numpy as np\n",
    "import math\n",
    "tf.logging.set_verbosity(tf.logging.ERROR)  # or any {DEBUG, INFO, WARN, ERROR, FATAL}\n",
    "from tensorflow.examples.tutorials.mnist import input_data\n",
    "data = input_data.read_data_sets('data/MNIST/', one_hot=True)"
   ]
  },
  {
   "cell_type": "code",
   "execution_count": 178,
   "metadata": {},
   "outputs": [
    {
     "name": "stdout",
     "output_type": "stream",
     "text": [
      "Size of:\n",
      "- Training-set:\t\t55000\n",
      "- Test-set:\t\t10000\n",
      "- Validation-set:\t5000\n"
     ]
    }
   ],
   "source": [
    "print(\"Size of:\")\n",
    "print(\"- Training-set:\\t\\t{}\".format(len(data.train.labels)))\n",
    "print(\"- Test-set:\\t\\t{}\".format(len(data.test.labels)))\n",
    "print(\"- Validation-set:\\t{}\".format(len(data.validation.labels)))"
   ]
  },
  {
   "cell_type": "code",
   "execution_count": 179,
   "metadata": {},
   "outputs": [],
   "source": [
    "data.test.cls = np.argmax(data.test.labels, axis=1)\n",
    "# We know that MNIST images are 28 pixels in each dimension.\n",
    "img_size = 28\n",
    "\n",
    "# Images are stored in one-dimensional arrays of this length.\n",
    "img_size_flat = img_size * img_size\n",
    "\n",
    "# Tuple with height and width of images used to reshape arrays.\n",
    "img_shape = (img_size, img_size)\n",
    "\n",
    "# Number of colour channels for the images: 1 channel for gray-scale.\n",
    "num_channels = 1\n",
    "\n",
    "# Number of classes, one class for each of 10 digits.\n",
    "num_classes = 10"
   ]
  },
  {
   "cell_type": "code",
   "execution_count": 180,
   "metadata": {},
   "outputs": [],
   "source": [
    "def prameter_num():\n",
    "    total_parameters = 0\n",
    "    for variable in tf.trainable_variables():\n",
    "        # shape is an array of tf.Dimension\n",
    "        #print(variable)\n",
    "        shape = variable.get_shape()\n",
    "        #print(shape)\n",
    "        #print(len(shape))\n",
    "        variable_parameters = 1\n",
    "        for dim in shape:\n",
    "            #print(dim)\n",
    "            variable_parameters *= dim.value\n",
    "        #print(variable_parameters)\n",
    "        total_parameters += variable_parameters\n",
    "    return total_parameters"
   ]
  },
  {
   "cell_type": "code",
   "execution_count": 235,
   "metadata": {},
   "outputs": [
    {
     "name": "stdout",
     "output_type": "stream",
     "text": [
      "Tensor(\"max_pooling2d/MaxPool:0\", shape=(?, 14, 14, 6), dtype=float32)\n",
      "Tensor(\"flatten/Reshape:0\", shape=(?, 1176), dtype=float32)\n",
      "Tensor(\"layer_fc_out/BiasAdd:0\", shape=(?, 10), dtype=float32)\n",
      "Total Parameters number = 152102\n"
     ]
    }
   ],
   "source": [
    "tf.reset_default_graph()\n",
    "x = tf.placeholder(tf.float32, shape=[None, img_size_flat], name='x')\n",
    "x_image = tf.reshape(x, [-1, img_size, img_size, num_channels])\n",
    "y_true = tf.placeholder(tf.float32, shape=[None, num_classes], name='y_true')\n",
    "y_true_cls = tf.argmax(y_true, dimension=1)\n",
    "\n",
    "# layer_conv1\n",
    "net = tf.layers.conv2d(inputs=x_image, name='layer_conv1', padding='same',\n",
    "                       filters=6, kernel_size=5, activation=tf.nn.relu)\n",
    "net = tf.layers.max_pooling2d(inputs=net, pool_size=2, strides=2)\n",
    "\n",
    "print(net)\n",
    "\n",
    "net = tf.layers.flatten(net)\n",
    "print(net)\n",
    "\n",
    "net = tf.layers.dense(inputs=net, name='layer_fc1',\n",
    "                      units=128, activation=tf.nn.relu)\n",
    "logits = tf.layers.dense(inputs=net, name='layer_fc_out',\n",
    "                      units=num_classes, activation=None)\n",
    "print(logits)\n",
    "\n",
    "y_pred = tf.nn.softmax(logits=logits)\n",
    "y_pred_cls = tf.argmax(y_pred, dimension=1)\n",
    "\n",
    "cross_entropy = tf.nn.softmax_cross_entropy_with_logits(labels=y_true, logits=logits)\n",
    "loss = tf.reduce_mean(cross_entropy)\n",
    "\n",
    "opt = tf.train.AdamOptimizer(learning_rate=0.01)\n",
    "optimizer = opt.minimize(loss)\n",
    "correct_prediction = tf.equal(y_pred_cls, y_true_cls)\n",
    "accuracy = tf.reduce_mean(tf.cast(correct_prediction, tf.float32))\n",
    "\n",
    "trainable_var_list = tf.trainable_variables()\n",
    "\n",
    "par_num1 = prameter_num()\n",
    "\n",
    "print(\"Total Parameters number = %s\"  %par_num1)"
   ]
  },
  {
   "cell_type": "code",
   "execution_count": 236,
   "metadata": {},
   "outputs": [
    {
     "name": "stdout",
     "output_type": "stream",
     "text": [
      "Epoch 0 Testing Accuracy: 0.9726\n"
     ]
    }
   ],
   "source": [
    "train_batch_size = 64\n",
    "n_batch = data.train.num_examples // train_batch_size\n",
    "\n",
    "loss_list1 = []\n",
    "sess = tf.Session()\n",
    "sess.run(tf.global_variables_initializer())\n",
    "for epoch in range(1):\n",
    "    for batch in range(n_batch):\n",
    "        batch_xs, batch_ys = data.train.next_batch(train_batch_size)\n",
    "        sess.run(optimizer, feed_dict={x:batch_xs, y_true:batch_ys})\n",
    "    loss1 = sess.run(loss, feed_dict={x:data.test.images,y_true:data.test.labels})\n",
    "    acc1 = sess.run(accuracy, feed_dict={x:data.test.images,y_true:data.test.labels})\n",
    "    lTrain1 = sess.run(loss, feed_dict={x:batch_xs, y_true:batch_ys})\n",
    "    aTrain1 = sess.run(accuracy, feed_dict={x:batch_xs, y_true:batch_ys})\n",
    "    print(\"Epoch \" + str(epoch) + \" Testing Accuracy: \" + str(acc1))"
   ]
  },
  {
   "cell_type": "code",
   "execution_count": 183,
   "metadata": {},
   "outputs": [
    {
     "name": "stdout",
     "output_type": "stream",
     "text": [
      "Tensor(\"max_pooling2d/MaxPool:0\", shape=(?, 4, 4, 2), dtype=float32)\n",
      "Tensor(\"flatten/Reshape:0\", shape=(?, 32), dtype=float32)\n",
      "Tensor(\"layer_fc_out/BiasAdd:0\", shape=(?, 10), dtype=float32)\n",
      "Total Parameters number = 750\n"
     ]
    }
   ],
   "source": [
    "tf.reset_default_graph()\n",
    "x = tf.placeholder(tf.float32, shape=[None, img_size_flat], name='x')\n",
    "x_image = tf.reshape(x, [-1, img_size, img_size, num_channels])\n",
    "y_true = tf.placeholder(tf.float32, shape=[None, num_classes], name='y_true')\n",
    "y_true_cls = tf.argmax(y_true, dimension=1)\n",
    "\n",
    "# layer_conv1\n",
    "net = tf.layers.conv2d(inputs=x_image, name='layer_conv1', padding='same',\n",
    "                       filters=2, kernel_size=5, activation=tf.nn.relu)\n",
    "net = tf.layers.max_pooling2d(inputs=net, pool_size=2, strides=8)\n",
    "\n",
    "print(net)\n",
    "\n",
    "net = tf.layers.flatten(net)\n",
    "print(net)\n",
    "\n",
    "net = tf.layers.dense(inputs=net, name='layer_fc1',\n",
    "                      units=16, activation=tf.nn.relu)\n",
    "logits = tf.layers.dense(inputs=net, name='layer_fc_out',\n",
    "                      units=num_classes, activation=None)\n",
    "print(logits)\n",
    "\n",
    "y_pred = tf.nn.softmax(logits=logits)\n",
    "y_pred_cls = tf.argmax(y_pred, dimension=1)\n",
    "\n",
    "cross_entropy = tf.nn.softmax_cross_entropy_with_logits(labels=y_true, logits=logits)\n",
    "loss = tf.reduce_mean(cross_entropy)\n",
    "\n",
    "opt = tf.train.AdamOptimizer(learning_rate=0.01)\n",
    "optimizer = opt.minimize(loss)\n",
    "correct_prediction = tf.equal(y_pred_cls, y_true_cls)\n",
    "accuracy = tf.reduce_mean(tf.cast(correct_prediction, tf.float32))\n",
    "\n",
    "trainable_var_list = tf.trainable_variables()\n",
    "\n",
    "par_num2 = prameter_num()\n",
    "\n",
    "print(\"Total Parameters number = %s\"  %par_num2)"
   ]
  },
  {
   "cell_type": "code",
   "execution_count": 184,
   "metadata": {},
   "outputs": [
    {
     "name": "stdout",
     "output_type": "stream",
     "text": [
      "Epoch 0 Testing Accuracy: 0.8314\n"
     ]
    }
   ],
   "source": [
    "train_batch_size = 64\n",
    "n_batch = data.train.num_examples // train_batch_size\n",
    "\n",
    "sess = tf.Session()\n",
    "sess.run(tf.global_variables_initializer())\n",
    "for epoch in range(1):\n",
    "    for batch in range(n_batch):\n",
    "        batch_xs, batch_ys = data.train.next_batch(train_batch_size)\n",
    "        sess.run(optimizer, feed_dict={x:batch_xs, y_true:batch_ys})\n",
    "    loss2 = sess.run(loss, feed_dict={x:data.test.images,y_true:data.test.labels})\n",
    "    acc2 = sess.run(accuracy, feed_dict={x:data.test.images,y_true:data.test.labels})\n",
    "    lTrain2 = sess.run(loss, feed_dict={x:batch_xs, y_true:batch_ys})\n",
    "    aTrain2 = sess.run(accuracy, feed_dict={x:batch_xs, y_true:batch_ys})\n",
    "    print(\"Epoch \" + str(epoch) + \" Testing Accuracy: \" + str(acc2))"
   ]
  },
  {
   "cell_type": "code",
   "execution_count": 185,
   "metadata": {},
   "outputs": [
    {
     "name": "stdout",
     "output_type": "stream",
     "text": [
      "Tensor(\"max_pooling2d/MaxPool:0\", shape=(?, 4, 4, 1), dtype=float32)\n",
      "Tensor(\"flatten/Reshape:0\", shape=(?, 16), dtype=float32)\n",
      "Tensor(\"layer_fc_out/BiasAdd:0\", shape=(?, 10), dtype=float32)\n",
      "Total Parameters number = 236\n"
     ]
    }
   ],
   "source": [
    "tf.reset_default_graph()\n",
    "x = tf.placeholder(tf.float32, shape=[None, img_size_flat], name='x')\n",
    "x_image = tf.reshape(x, [-1, img_size, img_size, num_channels])\n",
    "y_true = tf.placeholder(tf.float32, shape=[None, num_classes], name='y_true')\n",
    "y_true_cls = tf.argmax(y_true, dimension=1)\n",
    "\n",
    "# layer_conv1\n",
    "net = tf.layers.conv2d(inputs=x_image, name='layer_conv1', padding='same',\n",
    "                       filters=1, kernel_size=3, activation=tf.nn.relu)\n",
    "net = tf.layers.max_pooling2d(inputs=net, pool_size=4, strides=8)\n",
    "\n",
    "print(net)\n",
    "\n",
    "net = tf.layers.flatten(net)\n",
    "print(net)\n",
    "\n",
    "net = tf.layers.dense(inputs=net, name='layer_fc1',\n",
    "                      units=8, activation=tf.nn.relu)\n",
    "logits = tf.layers.dense(inputs=net, name='layer_fc_out',\n",
    "                      units=num_classes, activation=None)\n",
    "print(logits)\n",
    "\n",
    "y_pred = tf.nn.softmax(logits=logits)\n",
    "y_pred_cls = tf.argmax(y_pred, dimension=1)\n",
    "\n",
    "cross_entropy = tf.nn.softmax_cross_entropy_with_logits(labels=y_true, logits=logits)\n",
    "loss = tf.reduce_mean(cross_entropy)\n",
    "\n",
    "opt = tf.train.AdamOptimizer(learning_rate=0.01)\n",
    "optimizer = opt.minimize(loss)\n",
    "correct_prediction = tf.equal(y_pred_cls, y_true_cls)\n",
    "accuracy = tf.reduce_mean(tf.cast(correct_prediction, tf.float32))\n",
    "\n",
    "trainable_var_list = tf.trainable_variables()\n",
    "\n",
    "par_num3 = prameter_num()\n",
    "\n",
    "print(\"Total Parameters number = %s\"  %par_num3)"
   ]
  },
  {
   "cell_type": "code",
   "execution_count": 186,
   "metadata": {},
   "outputs": [
    {
     "name": "stdout",
     "output_type": "stream",
     "text": [
      "Epoch 0 Testing Accuracy: 0.6617\n"
     ]
    }
   ],
   "source": [
    "train_batch_size = 64\n",
    "n_batch = data.train.num_examples // train_batch_size\n",
    "\n",
    "sess = tf.Session()\n",
    "sess.run(tf.global_variables_initializer())\n",
    "for epoch in range(1):\n",
    "    for batch in range(n_batch):\n",
    "        batch_xs, batch_ys = data.train.next_batch(train_batch_size)\n",
    "        sess.run(optimizer, feed_dict={x:batch_xs, y_true:batch_ys})\n",
    "    loss3 = sess.run(loss, feed_dict={x:data.test.images,y_true:data.test.labels})\n",
    "    acc3 = sess.run(accuracy, feed_dict={x:data.test.images,y_true:data.test.labels})\n",
    "    lTrain3 = sess.run(loss, feed_dict={x:batch_xs, y_true:batch_ys})\n",
    "    aTrain3 = sess.run(accuracy, feed_dict={x:batch_xs, y_true:batch_ys})\n",
    "    print(\"Epoch \" + str(epoch) + \" Testing Accuracy: \" + str(acc3))"
   ]
  },
  {
   "cell_type": "code",
   "execution_count": 187,
   "metadata": {},
   "outputs": [
    {
     "name": "stdout",
     "output_type": "stream",
     "text": [
      "Tensor(\"max_pooling2d/MaxPool:0\", shape=(?, 7, 7, 2), dtype=float32)\n",
      "Tensor(\"flatten/Reshape:0\", shape=(?, 98), dtype=float32)\n",
      "Tensor(\"layer_fc_out/BiasAdd:0\", shape=(?, 10), dtype=float32)\n",
      "Total Parameters number = 14014\n"
     ]
    }
   ],
   "source": [
    "tf.reset_default_graph()\n",
    "x = tf.placeholder(tf.float32, shape=[None, img_size_flat], name='x')\n",
    "x_image = tf.reshape(x, [-1, img_size, img_size, num_channels])\n",
    "y_true = tf.placeholder(tf.float32, shape=[None, num_classes], name='y_true')\n",
    "y_true_cls = tf.argmax(y_true, dimension=1)\n",
    "\n",
    "# layer_conv1\n",
    "net = tf.layers.conv2d(inputs=x_image, name='layer_conv1', padding='same',\n",
    "                       filters=2, kernel_size=5, activation=tf.nn.relu)\n",
    "net = tf.layers.max_pooling2d(inputs=net, pool_size=4, strides=4)\n",
    "\n",
    "print(net)\n",
    "\n",
    "net = tf.layers.flatten(net)\n",
    "print(net)\n",
    "\n",
    "net = tf.layers.dense(inputs=net, name='layer_fc1',\n",
    "                      units=128, activation=tf.nn.relu)\n",
    "logits = tf.layers.dense(inputs=net, name='layer_fc_out',\n",
    "                      units=num_classes, activation=None)\n",
    "print(logits)\n",
    "\n",
    "y_pred = tf.nn.softmax(logits=logits)\n",
    "y_pred_cls = tf.argmax(y_pred, dimension=1)\n",
    "\n",
    "cross_entropy = tf.nn.softmax_cross_entropy_with_logits(labels=y_true, logits=logits)\n",
    "loss = tf.reduce_mean(cross_entropy)\n",
    "\n",
    "opt = tf.train.AdamOptimizer(learning_rate=0.01)\n",
    "optimizer = opt.minimize(loss)\n",
    "correct_prediction = tf.equal(y_pred_cls, y_true_cls)\n",
    "accuracy = tf.reduce_mean(tf.cast(correct_prediction, tf.float32))\n",
    "\n",
    "trainable_var_list = tf.trainable_variables()\n",
    "\n",
    "par_num4 = prameter_num()\n",
    "\n",
    "print(\"Total Parameters number = %s\"  %par_num4)"
   ]
  },
  {
   "cell_type": "code",
   "execution_count": 188,
   "metadata": {},
   "outputs": [
    {
     "name": "stdout",
     "output_type": "stream",
     "text": [
      "Epoch 0 Testing Accuracy: 0.9526\n"
     ]
    }
   ],
   "source": [
    "train_batch_size = 64\n",
    "n_batch = data.train.num_examples // train_batch_size\n",
    "\n",
    "sess = tf.Session()\n",
    "sess.run(tf.global_variables_initializer())\n",
    "for epoch in range(1):\n",
    "    for batch in range(n_batch):\n",
    "        batch_xs, batch_ys = data.train.next_batch(train_batch_size)\n",
    "        sess.run(optimizer, feed_dict={x:batch_xs, y_true:batch_ys})\n",
    "    loss4 = sess.run(loss, feed_dict={x:data.test.images,y_true:data.test.labels})\n",
    "    acc4 = sess.run(accuracy, feed_dict={x:data.test.images,y_true:data.test.labels})\n",
    "    lTrain4 = sess.run(loss, feed_dict={x:batch_xs, y_true:batch_ys})\n",
    "    aTrain4 = sess.run(accuracy, feed_dict={x:batch_xs, y_true:batch_ys})\n",
    "    print(\"Epoch \" + str(epoch) + \" Testing Accuracy: \" + str(acc4))"
   ]
  },
  {
   "cell_type": "code",
   "execution_count": 189,
   "metadata": {},
   "outputs": [
    {
     "name": "stdout",
     "output_type": "stream",
     "text": [
      "Tensor(\"max_pooling2d/MaxPool:0\", shape=(?, 3, 3, 2), dtype=float32)\n",
      "Tensor(\"flatten/Reshape:0\", shape=(?, 18), dtype=float32)\n",
      "Tensor(\"layer_fc_out/BiasAdd:0\", shape=(?, 10), dtype=float32)\n",
      "Total Parameters number = 494\n"
     ]
    }
   ],
   "source": [
    "tf.reset_default_graph()\n",
    "x = tf.placeholder(tf.float32, shape=[None, img_size_flat], name='x')\n",
    "x_image = tf.reshape(x, [-1, img_size, img_size, num_channels])\n",
    "y_true = tf.placeholder(tf.float32, shape=[None, num_classes], name='y_true')\n",
    "y_true_cls = tf.argmax(y_true, dimension=1)\n",
    "\n",
    "# layer_conv1\n",
    "net = tf.layers.conv2d(inputs=x_image, name='layer_conv1', padding='same',\n",
    "                       filters=2, kernel_size=3, activation=tf.nn.relu)\n",
    "net = tf.layers.max_pooling2d(inputs=net, pool_size=8, strides=8)\n",
    "\n",
    "print(net)\n",
    "\n",
    "net = tf.layers.flatten(net)\n",
    "print(net)\n",
    "\n",
    "net = tf.layers.dense(inputs=net, name='layer_fc1',\n",
    "                      units=16, activation=tf.nn.relu)\n",
    "logits = tf.layers.dense(inputs=net, name='layer_fc_out',\n",
    "                      units=num_classes, activation=None)\n",
    "print(logits)\n",
    "\n",
    "y_pred = tf.nn.softmax(logits=logits)\n",
    "y_pred_cls = tf.argmax(y_pred, dimension=1)\n",
    "\n",
    "cross_entropy = tf.nn.softmax_cross_entropy_with_logits(labels=y_true, logits=logits)\n",
    "loss = tf.reduce_mean(cross_entropy)\n",
    "\n",
    "opt = tf.train.AdamOptimizer(learning_rate=0.01)\n",
    "optimizer = opt.minimize(loss)\n",
    "correct_prediction = tf.equal(y_pred_cls, y_true_cls)\n",
    "accuracy = tf.reduce_mean(tf.cast(correct_prediction, tf.float32))\n",
    "\n",
    "trainable_var_list = tf.trainable_variables()\n",
    "\n",
    "par_num5 = prameter_num()\n",
    "\n",
    "print(\"Total Parameters number = %s\"  %par_num5)"
   ]
  },
  {
   "cell_type": "code",
   "execution_count": 190,
   "metadata": {},
   "outputs": [
    {
     "name": "stdout",
     "output_type": "stream",
     "text": [
      "Epoch 0 Testing Accuracy: 0.8124\n"
     ]
    }
   ],
   "source": [
    "train_batch_size = 64\n",
    "n_batch = data.train.num_examples // train_batch_size\n",
    "\n",
    "sess = tf.Session()\n",
    "sess.run(tf.global_variables_initializer())\n",
    "for epoch in range(1):\n",
    "    for batch in range(n_batch):\n",
    "        batch_xs, batch_ys = data.train.next_batch(train_batch_size)\n",
    "        sess.run(optimizer, feed_dict={x:batch_xs, y_true:batch_ys})\n",
    "    loss5 = sess.run(loss, feed_dict={x:data.test.images,y_true:data.test.labels})\n",
    "    acc5 = sess.run(accuracy, feed_dict={x:data.test.images,y_true:data.test.labels})\n",
    "    lTrain5 = sess.run(loss, feed_dict={x:batch_xs, y_true:batch_ys})\n",
    "    aTrain5 = sess.run(accuracy, feed_dict={x:batch_xs, y_true:batch_ys})\n",
    "    print(\"Epoch \" + str(epoch) + \" Testing Accuracy: \" + str(acc5))"
   ]
  },
  {
   "cell_type": "code",
   "execution_count": 191,
   "metadata": {},
   "outputs": [
    {
     "name": "stdout",
     "output_type": "stream",
     "text": [
      "Tensor(\"max_pooling2d/MaxPool:0\", shape=(?, 14, 14, 8), dtype=float32)\n",
      "Tensor(\"flatten/Reshape:0\", shape=(?, 1568), dtype=float32)\n",
      "Tensor(\"layer_fc_out/BiasAdd:0\", shape=(?, 10), dtype=float32)\n",
      "Total Parameters number = 101274\n"
     ]
    }
   ],
   "source": [
    "tf.reset_default_graph()\n",
    "x = tf.placeholder(tf.float32, shape=[None, img_size_flat], name='x')\n",
    "x_image = tf.reshape(x, [-1, img_size, img_size, num_channels])\n",
    "y_true = tf.placeholder(tf.float32, shape=[None, num_classes], name='y_true')\n",
    "y_true_cls = tf.argmax(y_true, dimension=1)\n",
    "\n",
    "# layer_conv1\n",
    "net = tf.layers.conv2d(inputs=x_image, name='layer_conv1', padding='same',\n",
    "                       filters=8, kernel_size=5, activation=tf.nn.relu)\n",
    "net = tf.layers.max_pooling2d(inputs=net, pool_size=2, strides=2)\n",
    "\n",
    "print(net)\n",
    "\n",
    "net = tf.layers.flatten(net)\n",
    "print(net)\n",
    "\n",
    "net = tf.layers.dense(inputs=net, name='layer_fc1',\n",
    "                      units=64, activation=tf.nn.relu)\n",
    "logits = tf.layers.dense(inputs=net, name='layer_fc_out',\n",
    "                      units=num_classes, activation=None)\n",
    "print(logits)\n",
    "\n",
    "y_pred = tf.nn.softmax(logits=logits)\n",
    "y_pred_cls = tf.argmax(y_pred, dimension=1)\n",
    "\n",
    "cross_entropy = tf.nn.softmax_cross_entropy_with_logits(labels=y_true, logits=logits)\n",
    "loss = tf.reduce_mean(cross_entropy)\n",
    "\n",
    "opt = tf.train.AdamOptimizer(learning_rate=0.01)\n",
    "optimizer = opt.minimize(loss)\n",
    "correct_prediction = tf.equal(y_pred_cls, y_true_cls)\n",
    "accuracy = tf.reduce_mean(tf.cast(correct_prediction, tf.float32))\n",
    "\n",
    "trainable_var_list = tf.trainable_variables()\n",
    "\n",
    "par_num6 = prameter_num()\n",
    "\n",
    "print(\"Total Parameters number = %s\"  %par_num6)"
   ]
  },
  {
   "cell_type": "code",
   "execution_count": 192,
   "metadata": {},
   "outputs": [
    {
     "name": "stdout",
     "output_type": "stream",
     "text": [
      "Epoch 0 Testing Accuracy: 0.9807\n"
     ]
    }
   ],
   "source": [
    "train_batch_size = 64\n",
    "n_batch = data.train.num_examples // train_batch_size\n",
    "\n",
    "sess = tf.Session()\n",
    "sess.run(tf.global_variables_initializer())\n",
    "for epoch in range(1):\n",
    "    for batch in range(n_batch):\n",
    "        batch_xs, batch_ys = data.train.next_batch(train_batch_size)\n",
    "        sess.run(optimizer, feed_dict={x:batch_xs, y_true:batch_ys})\n",
    "    loss6 = sess.run(loss, feed_dict={x:data.test.images,y_true:data.test.labels})\n",
    "    acc6 = sess.run(accuracy, feed_dict={x:data.test.images,y_true:data.test.labels})\n",
    "    lTrain6 = sess.run(loss, feed_dict={x:batch_xs, y_true:batch_ys})\n",
    "    aTrain6 = sess.run(accuracy, feed_dict={x:batch_xs, y_true:batch_ys})\n",
    "    print(\"Epoch \" + str(epoch) + \" Testing Accuracy: \" + str(acc6))"
   ]
  },
  {
   "cell_type": "code",
   "execution_count": 230,
   "metadata": {},
   "outputs": [
    {
     "name": "stdout",
     "output_type": "stream",
     "text": [
      "Tensor(\"max_pooling2d/MaxPool:0\", shape=(?, 14, 14, 26), dtype=float32)\n",
      "Tensor(\"max_pooling2d_1/MaxPool:0\", shape=(?, 7, 7, 16), dtype=float32)\n",
      "Tensor(\"flatten/Reshape:0\", shape=(?, 784), dtype=float32)\n",
      "Tensor(\"layer_fc_out/BiasAdd:0\", shape=(?, 10), dtype=float32)\n",
      "Total Parameters number = 61982\n"
     ]
    }
   ],
   "source": [
    "tf.reset_default_graph()\n",
    "x = tf.placeholder(tf.float32, shape=[None, img_size_flat], name='x')\n",
    "x_image = tf.reshape(x, [-1, img_size, img_size, num_channels])\n",
    "y_true = tf.placeholder(tf.float32, shape=[None, num_classes], name='y_true')\n",
    "y_true_cls = tf.argmax(y_true, dimension=1)\n",
    "\n",
    "# layer_conv1\n",
    "net = tf.layers.conv2d(inputs=x_image, name='layer_conv1', padding='same',\n",
    "                       filters=26, kernel_size=5, activation=tf.nn.relu)\n",
    "net = tf.layers.max_pooling2d(inputs=net, pool_size=2, strides=2)\n",
    "\n",
    "print(net)\n",
    "\n",
    "# layer_conv2\n",
    "net = tf.layers.conv2d(inputs=net, name='layer_conv2', padding='same',\n",
    "                       filters=16, kernel_size=5, activation=tf.nn.relu)\n",
    "net = tf.layers.max_pooling2d(inputs=net, pool_size=2, strides=2)\n",
    "print(net)\n",
    "\n",
    "net = tf.layers.flatten(net)\n",
    "print(net)\n",
    "\n",
    "net = tf.layers.dense(inputs=net, name='layer_fc1',\n",
    "                      units=64, activation=tf.nn.relu)\n",
    "logits = tf.layers.dense(inputs=net, name='layer_fc_out',\n",
    "                      units=num_classes, activation=None)\n",
    "print(logits)\n",
    "\n",
    "y_pred = tf.nn.softmax(logits=logits)\n",
    "y_pred_cls = tf.argmax(y_pred, dimension=1)\n",
    "\n",
    "cross_entropy = tf.nn.softmax_cross_entropy_with_logits(labels=y_true, logits=logits)\n",
    "loss = tf.reduce_mean(cross_entropy)\n",
    "\n",
    "opt = tf.train.AdamOptimizer(learning_rate=0.01)\n",
    "optimizer = opt.minimize(loss)\n",
    "correct_prediction = tf.equal(y_pred_cls, y_true_cls)\n",
    "accuracy = tf.reduce_mean(tf.cast(correct_prediction, tf.float32))\n",
    "\n",
    "trainable_var_list = tf.trainable_variables()\n",
    "\n",
    "par_num7 = prameter_num()\n",
    "\n",
    "print(\"Total Parameters number = %s\"  %par_num7)"
   ]
  },
  {
   "cell_type": "code",
   "execution_count": 231,
   "metadata": {},
   "outputs": [
    {
     "name": "stdout",
     "output_type": "stream",
     "text": [
      "Epoch 0 Testing Accuracy: 0.9795\n"
     ]
    }
   ],
   "source": [
    "train_batch_size = 64\n",
    "n_batch = data.train.num_examples // train_batch_size\n",
    "\n",
    "sess = tf.Session()\n",
    "sess.run(tf.global_variables_initializer())\n",
    "for epoch in range(1):\n",
    "    for batch in range(n_batch):\n",
    "        batch_xs, batch_ys = data.train.next_batch(train_batch_size)\n",
    "        sess.run(optimizer, feed_dict={x:batch_xs, y_true:batch_ys})\n",
    "    loss7 = sess.run(loss, feed_dict={x:data.test.images,y_true:data.test.labels})\n",
    "    acc7 = sess.run(accuracy, feed_dict={x:data.test.images,y_true:data.test.labels})\n",
    "    lTrain7 = sess.run(loss, feed_dict={x:batch_xs, y_true:batch_ys})\n",
    "    aTrain7 = sess.run(accuracy, feed_dict={x:batch_xs, y_true:batch_ys})\n",
    "    print(\"Epoch \" + str(epoch) + \" Testing Accuracy: \" + str(acc7))"
   ]
  },
  {
   "cell_type": "code",
   "execution_count": 221,
   "metadata": {},
   "outputs": [
    {
     "name": "stdout",
     "output_type": "stream",
     "text": [
      "Tensor(\"max_pooling2d/MaxPool:0\", shape=(?, 13, 13, 4), dtype=float32)\n",
      "Tensor(\"flatten/Reshape:0\", shape=(?, 676), dtype=float32)\n",
      "Tensor(\"layer_fc_out/BiasAdd:0\", shape=(?, 10), dtype=float32)\n",
      "Total Parameters number = 22098\n"
     ]
    }
   ],
   "source": [
    "tf.reset_default_graph()\n",
    "x = tf.placeholder(tf.float32, shape=[None, img_size_flat], name='x')\n",
    "x_image = tf.reshape(x, [-1, img_size, img_size, num_channels])\n",
    "y_true = tf.placeholder(tf.float32, shape=[None, num_classes], name='y_true')\n",
    "y_true_cls = tf.argmax(y_true, dimension=1)\n",
    "\n",
    "# layer_conv1\n",
    "net = tf.layers.conv2d(inputs=x_image, name='layer_conv1', padding='same',\n",
    "                       filters=4, kernel_size=5, activation=tf.nn.relu)\n",
    "net = tf.layers.max_pooling2d(inputs=net, pool_size=4, strides=2)\n",
    "\n",
    "print(net)\n",
    "\n",
    "net = tf.layers.flatten(net)\n",
    "print(net)\n",
    "\n",
    "net = tf.layers.dense(inputs=net, name='layer_fc1',\n",
    "                      units=32, activation=tf.nn.relu)\n",
    "logits = tf.layers.dense(inputs=net, name='layer_fc_out',\n",
    "                      units=num_classes, activation=None)\n",
    "print(logits)\n",
    "\n",
    "y_pred = tf.nn.softmax(logits=logits)\n",
    "y_pred_cls = tf.argmax(y_pred, dimension=1)\n",
    "\n",
    "cross_entropy = tf.nn.softmax_cross_entropy_with_logits(labels=y_true, logits=logits)\n",
    "loss = tf.reduce_mean(cross_entropy)\n",
    "\n",
    "opt = tf.train.AdamOptimizer(learning_rate=0.01)\n",
    "optimizer = opt.minimize(loss)\n",
    "correct_prediction = tf.equal(y_pred_cls, y_true_cls)\n",
    "accuracy = tf.reduce_mean(tf.cast(correct_prediction, tf.float32))\n",
    "\n",
    "trainable_var_list = tf.trainable_variables()\n",
    "\n",
    "par_num8 = prameter_num()\n",
    "\n",
    "print(\"Total Parameters number = %s\"  %par_num8)"
   ]
  },
  {
   "cell_type": "code",
   "execution_count": 222,
   "metadata": {},
   "outputs": [
    {
     "name": "stdout",
     "output_type": "stream",
     "text": [
      "Epoch 0 Testing Accuracy: 0.9616\n"
     ]
    }
   ],
   "source": [
    "train_batch_size = 64\n",
    "n_batch = data.train.num_examples // train_batch_size\n",
    "\n",
    "sess = tf.Session()\n",
    "sess.run(tf.global_variables_initializer())\n",
    "for epoch in range(1):\n",
    "    for batch in range(n_batch):\n",
    "        batch_xs, batch_ys = data.train.next_batch(train_batch_size)\n",
    "        sess.run(optimizer, feed_dict={x:batch_xs, y_true:batch_ys})\n",
    "    loss8 = sess.run(loss, feed_dict={x:data.test.images,y_true:data.test.labels})\n",
    "    acc8 = sess.run(accuracy, feed_dict={x:data.test.images,y_true:data.test.labels})\n",
    "    lTrain8 = sess.run(loss, feed_dict={x:batch_xs, y_true:batch_ys})\n",
    "    aTrain8 = sess.run(accuracy, feed_dict={x:batch_xs, y_true:batch_ys})\n",
    "    print(\"Epoch \" + str(epoch) + \" Testing Accuracy: \" + str(acc8))"
   ]
  },
  {
   "cell_type": "code",
   "execution_count": 197,
   "metadata": {},
   "outputs": [
    {
     "name": "stdout",
     "output_type": "stream",
     "text": [
      "Tensor(\"max_pooling2d/MaxPool:0\", shape=(?, 14, 14, 4), dtype=float32)\n",
      "Tensor(\"max_pooling2d_1/MaxPool:0\", shape=(?, 7, 7, 16), dtype=float32)\n",
      "Tensor(\"flatten/Reshape:0\", shape=(?, 784), dtype=float32)\n",
      "Tensor(\"layer_fc_out/BiasAdd:0\", shape=(?, 10), dtype=float32)\n",
      "Total Parameters number = 8026\n"
     ]
    }
   ],
   "source": [
    "tf.reset_default_graph()\n",
    "x = tf.placeholder(tf.float32, shape=[None, img_size_flat], name='x')\n",
    "x_image = tf.reshape(x, [-1, img_size, img_size, num_channels])\n",
    "y_true = tf.placeholder(tf.float32, shape=[None, num_classes], name='y_true')\n",
    "y_true_cls = tf.argmax(y_true, dimension=1)\n",
    "\n",
    "# layer_conv1\n",
    "net = tf.layers.conv2d(inputs=x_image, name='layer_conv1', padding='same',\n",
    "                       filters=4, kernel_size=3, activation=tf.nn.relu)\n",
    "net = tf.layers.max_pooling2d(inputs=net, pool_size=2, strides=2)\n",
    "\n",
    "print(net)\n",
    "\n",
    "# layer_conv2\n",
    "net = tf.layers.conv2d(inputs=net, name='layer_conv2', padding='same',\n",
    "                       filters=16, kernel_size=5, activation=tf.nn.relu)\n",
    "net = tf.layers.max_pooling2d(inputs=net, pool_size=2, strides=2)\n",
    "print(net)\n",
    "\n",
    "net = tf.layers.flatten(net)\n",
    "print(net)\n",
    "\n",
    "net = tf.layers.dense(inputs=net, name='layer_fc1',\n",
    "                      units=8, activation=tf.nn.relu)\n",
    "logits = tf.layers.dense(inputs=net, name='layer_fc_out',\n",
    "                      units=num_classes, activation=None)\n",
    "print(logits)\n",
    "\n",
    "y_pred = tf.nn.softmax(logits=logits)\n",
    "y_pred_cls = tf.argmax(y_pred, dimension=1)\n",
    "\n",
    "cross_entropy = tf.nn.softmax_cross_entropy_with_logits(labels=y_true, logits=logits)\n",
    "loss = tf.reduce_mean(cross_entropy)\n",
    "\n",
    "opt = tf.train.AdamOptimizer(learning_rate=0.01)\n",
    "optimizer = opt.minimize(loss)\n",
    "correct_prediction = tf.equal(y_pred_cls, y_true_cls)\n",
    "accuracy = tf.reduce_mean(tf.cast(correct_prediction, tf.float32))\n",
    "\n",
    "trainable_var_list = tf.trainable_variables()\n",
    "\n",
    "par_num9 = prameter_num()\n",
    "\n",
    "print(\"Total Parameters number = %s\"  %par_num9)"
   ]
  },
  {
   "cell_type": "code",
   "execution_count": 198,
   "metadata": {},
   "outputs": [
    {
     "name": "stdout",
     "output_type": "stream",
     "text": [
      "Epoch 0 Testing Accuracy: 0.9738\n"
     ]
    }
   ],
   "source": [
    "train_batch_size = 64\n",
    "n_batch = data.train.num_examples // train_batch_size\n",
    "\n",
    "sess = tf.Session()\n",
    "sess.run(tf.global_variables_initializer())\n",
    "for epoch in range(1):\n",
    "    for batch in range(n_batch):\n",
    "        batch_xs, batch_ys = data.train.next_batch(train_batch_size)\n",
    "        sess.run(optimizer, feed_dict={x:batch_xs, y_true:batch_ys})\n",
    "    loss9 = sess.run(loss, feed_dict={x:data.test.images,y_true:data.test.labels})\n",
    "    acc9 = sess.run(accuracy, feed_dict={x:data.test.images,y_true:data.test.labels})\n",
    "    lTrain9 = sess.run(loss, feed_dict={x:batch_xs, y_true:batch_ys})\n",
    "    aTrain9 = sess.run(accuracy, feed_dict={x:batch_xs, y_true:batch_ys})\n",
    "    print(\"Epoch \" + str(epoch) + \" Testing Accuracy: \" + str(acc9))"
   ]
  },
  {
   "cell_type": "code",
   "execution_count": 227,
   "metadata": {},
   "outputs": [
    {
     "name": "stdout",
     "output_type": "stream",
     "text": [
      "Tensor(\"max_pooling2d_1/MaxPool:0\", shape=(?, 7, 7, 36), dtype=float32)\n",
      "Tensor(\"flatten/Reshape:0\", shape=(?, 1764), dtype=float32)\n",
      "Tensor(\"layer_fc_out/BiasAdd:0\", shape=(?, 10), dtype=float32)\n",
      "Total Parameters number = 242062\n"
     ]
    }
   ],
   "source": [
    "tf.reset_default_graph()\n",
    "x = tf.placeholder(tf.float32, shape=[None, img_size_flat], name='x')\n",
    "x_image = tf.reshape(x, [-1, img_size, img_size, num_channels])\n",
    "y_true = tf.placeholder(tf.float32, shape=[None, num_classes], name='y_true')\n",
    "y_true_cls = tf.argmax(y_true, dimension=1)\n",
    "\n",
    "# layer_conv1\n",
    "net = tf.layers.conv2d(inputs=x_image, name='layer_conv1', padding='same',\n",
    "                       filters=16, kernel_size=5, activation=tf.nn.relu)\n",
    "net = tf.layers.max_pooling2d(inputs=net, pool_size=2, strides=2)\n",
    "\n",
    "# layer_conv2\n",
    "net = tf.layers.conv2d(inputs=net, name='layer_conv2', padding='same',\n",
    "                       filters=36, kernel_size=5, activation=tf.nn.relu)\n",
    "net = tf.layers.max_pooling2d(inputs=net, pool_size=2, strides=2)\n",
    "print(net)\n",
    "\n",
    "net = tf.layers.flatten(net)\n",
    "print(net)\n",
    "\n",
    "net = tf.layers.dense(inputs=net, name='layer_fc1',\n",
    "                      units=128, activation=tf.nn.relu)\n",
    "logits = tf.layers.dense(inputs=net, name='layer_fc_out',\n",
    "                      units=num_classes, activation=None)\n",
    "print(logits)\n",
    "\n",
    "y_pred = tf.nn.softmax(logits=logits)\n",
    "y_pred_cls = tf.argmax(y_pred, dimension=1)\n",
    "\n",
    "cross_entropy = tf.nn.softmax_cross_entropy_with_logits(labels=y_true, logits=logits)\n",
    "loss = tf.reduce_mean(cross_entropy)\n",
    "\n",
    "opt = tf.train.AdamOptimizer(learning_rate=0.01)\n",
    "optimizer = opt.minimize(loss)\n",
    "correct_prediction = tf.equal(y_pred_cls, y_true_cls)\n",
    "accuracy = tf.reduce_mean(tf.cast(correct_prediction, tf.float32))\n",
    "\n",
    "trainable_var_list = tf.trainable_variables()\n",
    "\n",
    "par_num10 = prameter_num()\n",
    "\n",
    "print(\"Total Parameters number = %s\"  %par_num10)\n"
   ]
  },
  {
   "cell_type": "code",
   "execution_count": 228,
   "metadata": {},
   "outputs": [
    {
     "name": "stdout",
     "output_type": "stream",
     "text": [
      "Epoch 0 Testing Accuracy: 0.9664\n"
     ]
    }
   ],
   "source": [
    "train_batch_size = 64\n",
    "n_batch = data.train.num_examples // train_batch_size\n",
    "\n",
    "sess = tf.Session()\n",
    "sess.run(tf.global_variables_initializer())\n",
    "for epoch in range(1):\n",
    "    for batch in range(n_batch):\n",
    "        batch_xs, batch_ys = data.train.next_batch(train_batch_size)\n",
    "        sess.run(optimizer, feed_dict={x:batch_xs, y_true:batch_ys})\n",
    "    loss10 = sess.run(loss, feed_dict={x:data.test.images,y_true:data.test.labels})\n",
    "    acc10 = sess.run(accuracy, feed_dict={x:data.test.images,y_true:data.test.labels})\n",
    "    lTrain10 = sess.run(loss, feed_dict={x:batch_xs, y_true:batch_ys})\n",
    "    aTrain10 = sess.run(accuracy, feed_dict={x:batch_xs, y_true:batch_ys})\n",
    "    print(\"Epoch \" + str(epoch) + \" Testing Accuracy: \" + str(acc10))"
   ]
  },
  {
   "cell_type": "code",
   "execution_count": 237,
   "metadata": {},
   "outputs": [
    {
     "data": {
      "image/png": "[encoded data removed]",
      "text/plain": [
       "<Figure size 432x288 with 1 Axes>"
      ]
     },
     "metadata": {
      "needs_background": "light"
     },
     "output_type": "display_data"
    },
    {
     "data": {
      "text/plain": [
       "<matplotlib.legend.Legend at 0x14c845264d68>"
      ]
     },
     "execution_count": 237,
     "metadata": {},
     "output_type": "execute_result"
    },
    {
     "data": {
      "image/png": "[encoded data removed]",
      "text/plain": [
       "<Figure size 432x288 with 1 Axes>"
      ]
     },
     "metadata": {
      "needs_background": "light"
     },
     "output_type": "display_data"
    }
   ],
   "source": [
    "para_num = [par_num1,par_num2,par_num3,par_num4,par_num5,par_num6,par_num7,par_num8,par_num9,par_num10]\n",
    "acc = [acc1,acc2,acc3,acc4,acc5,acc6,acc7,acc8,acc9,acc10]\n",
    "loss = [loss1,loss2,loss3,loss4,loss5,loss6,loss7,loss8,loss9,loss10]\n",
    "acc_train = [aTrain1,aTrain2,aTrain3,aTrain4,aTrain5,aTrain6,aTrain7,aTrain8,aTrain9,aTrain10]\n",
    "loss_train = [lTrain1,lTrain2,lTrain3,lTrain4,lTrain5,lTrain6,lTrain7,lTrain8,lTrain9,lTrain10]\n",
    "\n",
    "plt.scatter(para_num,acc, c='r')\n",
    "plt.scatter(para_num,acc_train, c='b')\n",
    "plt.show\n",
    "plt.title('Accuracy with different parameter numbers')\n",
    "plt.xlabel('parameter number')\n",
    "plt.ylabel('Accuracy')\n",
    "plt.legend(('test accuracy','train accuracy'))\n",
    "\n",
    "plt.pause(0.1)\n",
    "plt.scatter(para_num,loss, c='g')\n",
    "plt.scatter(para_num,loss_train,c='y')\n",
    "plt.show\n",
    "plt.title('Loss with different parameter numbers')\n",
    "plt.xlabel('parameter number')\n",
    "plt.ylabel('Loss')\n",
    "plt.legend(('test loss','train loss'))\n",
    "\n",
    "# plt.pause(0.1)\n",
    "# plt.scatter(par_num8,acc8)\n",
    "# plt.scatter(par_num8,aTrain8)\n",
    "# plt.legend(('test accuracy','train accuracy'))"
   ]
  },
  {
   "cell_type": "code",
   "execution_count": null,
   "metadata": {},
   "outputs": [],
   "source": []
  }
 ],
 "metadata": {
  "kernelspec": {
   "display_name": "Tensorflow",
   "language": "python",
   "name": "8810"
  },
  "language_info": {
   "codemirror_mode": {
    "name": "ipython",
    "version": 3
   },
   "file_extension": ".py",
   "mimetype": "text/x-python",
   "name": "python",
   "nbconvert_exporter": "python",
   "pygments_lexer": "ipython3",
   "version": "3.6.10"
  }
 },
 "nbformat": 4,
 "nbformat_minor": 2
}
